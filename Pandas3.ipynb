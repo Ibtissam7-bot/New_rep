{
 "cells": [
  {
   "cell_type": "markdown",
   "id": "9dae019e",
   "metadata": {},
   "source": [
    "Importation des bibliothèques pandas et numpy\n",
    "\n",
    "#Partie 1 : Chargement et exploration du dataset"
   ]
  },
  {
   "cell_type": "code",
   "execution_count": 2,
   "id": "5412e19d",
   "metadata": {},
   "outputs": [
    {
     "name": "stdout",
     "output_type": "stream",
     "text": [
      "    Unnamed: 0   ID     Name   Age   Salary Department  Years_Experience  \\\n",
      "0            0    1  Othmane   NaN      NaN         IT                 0   \n",
      "1            1    2    Ikram  22.0      NaN         HR                23   \n",
      "2            2    3      Bob   NaN      NaN         HR                26   \n",
      "3            3    4    Zineb  59.0  73665.0         HR                 3   \n",
      "4            4    5    David  57.0  59325.0    Finance                33   \n",
      "..         ...  ...      ...   ...      ...        ...               ...   \n",
      "95          95   96      Bob   NaN  82670.0  Marketing                21   \n",
      "96          96   97      Eva   NaN  59838.0    Finance                12   \n",
      "97          97   98   Nassim   NaN  45811.0    Finance                14   \n",
      "98          98   99   Nassim  42.0  73800.0  Marketing                13   \n",
      "99          99  100  Othmane  32.0      NaN  Marketing                19   \n",
      "\n",
      "   Remote  \n",
      "0     Yes  \n",
      "1     Yes  \n",
      "2     Yes  \n",
      "3      No  \n",
      "4      No  \n",
      "..    ...  \n",
      "95    Yes  \n",
      "96     No  \n",
      "97    Yes  \n",
      "98    Yes  \n",
      "99    Yes  \n",
      "\n",
      "[100 rows x 8 columns]\n",
      "   Unnamed: 0  ID     Name   Age   Salary Department  Years_Experience Remote\n",
      "0           0   1  Othmane   NaN      NaN         IT                 0    Yes\n",
      "1           1   2    Ikram  22.0      NaN         HR                23    Yes\n",
      "2           2   3      Bob   NaN      NaN         HR                26    Yes\n",
      "3           3   4    Zineb  59.0  73665.0         HR                 3     No\n",
      "4           4   5    David  57.0  59325.0    Finance                33     No\n",
      "<class 'pandas.core.frame.DataFrame'>\n",
      "RangeIndex: 100 entries, 0 to 99\n",
      "Data columns (total 8 columns):\n",
      " #   Column            Non-Null Count  Dtype  \n",
      "---  ------            --------------  -----  \n",
      " 0   Unnamed: 0        100 non-null    int64  \n",
      " 1   ID                100 non-null    int64  \n",
      " 2   Name              100 non-null    object \n",
      " 3   Age               51 non-null     float64\n",
      " 4   Salary            56 non-null     float64\n",
      " 5   Department        100 non-null    object \n",
      " 6   Years_Experience  100 non-null    int64  \n",
      " 7   Remote            100 non-null    object \n",
      "dtypes: float64(2), int64(3), object(3)\n",
      "memory usage: 6.4+ KB\n",
      "None\n",
      "Unnamed: 0           0\n",
      "ID                   0\n",
      "Name                 0\n",
      "Age                 49\n",
      "Salary              44\n",
      "Department           0\n",
      "Years_Experience     0\n",
      "Remote               0\n",
      "dtype: int64\n"
     ]
    }
   ],
   "source": [
    "import pandas as pd\n",
    "import numpy as np\n",
    "df=pd.read_csv('employees2 (1).csv')\n",
    "print(df)\n",
    "print(df.head(5))\n",
    "print(df.info())\n",
    "print(df.isnull().sum())"
   ]
  },
  {
   "cell_type": "markdown",
   "id": "4e3f60a6",
   "metadata": {},
   "source": [
    "# Partie 2 : Nettoyage des données\n"
   ]
  },
  {
   "cell_type": "code",
   "execution_count": 3,
   "id": "9c779d41",
   "metadata": {},
   "outputs": [
    {
     "name": "stdout",
     "output_type": "stream",
     "text": [
      "    Unnamed: 0   ID     Name   Age        Salary Department  Years_Experience  \\\n",
      "65          65   66    Alice  45.0  45959.000000    Finance                10   \n",
      "34          34   35   Nassim  45.0  57836.583333    Finance                35   \n",
      "29          29   30    Hamza  50.0  57836.583333    Finance                11   \n",
      "81          81   82    Jalil  32.0  64684.000000    Finance                22   \n",
      "25          25   26    David  45.0  83996.000000    Finance                30   \n",
      "..         ...  ...      ...   ...           ...        ...               ...   \n",
      "69          69   70    Jalil  59.0  70395.153846  Marketing                33   \n",
      "52          52   53      Bob  45.0  70395.153846  Marketing                34   \n",
      "59          59   60      Bob  59.0  70395.153846  Marketing                 7   \n",
      "86          86   87  Charlie  56.0  70395.153846  Marketing                29   \n",
      "99          99  100  Othmane  32.0  70395.153846  Marketing                19   \n",
      "\n",
      "   Remote  \n",
      "65     No  \n",
      "34    Yes  \n",
      "29    Yes  \n",
      "81     No  \n",
      "25     No  \n",
      "..    ...  \n",
      "69    Yes  \n",
      "52    Yes  \n",
      "59    Yes  \n",
      "86    Yes  \n",
      "99    Yes  \n",
      "\n",
      "[100 rows x 8 columns]\n"
     ]
    }
   ],
   "source": [
    "df.Age=df.Age.fillna(df.Age.median())\n",
    "df=df.sort_values(by='Department')\n",
    "df['Salary']=df['Salary'].fillna(df.groupby('Department')['Salary'].transform('mean'))\n",
    "print(df)\n",
    "\n",
    "#df.Salary=df.Salary.fillna(df.Salary.mean())\n",
    "#print(df.isnull().sum())"
   ]
  },
  {
   "cell_type": "code",
   "execution_count": 4,
   "id": "cfd2cdb8",
   "metadata": {},
   "outputs": [],
   "source": [
    "df.ID=df.ID.astype(int)\n",
    "df['Salary']=df['Salary'].astype(float)\n",
    "df.Age=df.Age.astype(int)\n",
    "df.Years_Experience=df.Years_Experience.astype(int)\n"
   ]
  },
  {
   "cell_type": "code",
   "execution_count": 5,
   "id": "12109975",
   "metadata": {},
   "outputs": [
    {
     "name": "stdout",
     "output_type": "stream",
     "text": [
      "    Unnamed: 0   ID     Name  Age        Salary Department  Years_Experience  \\\n",
      "65          65   66    Alice   45  45959.000000    Finance                10   \n",
      "34          34   35   Nassim   45  57836.583333    Finance                35   \n",
      "29          29   30    Hamza   50  57836.583333    Finance                11   \n",
      "81          81   82    Jalil   32  64684.000000    Finance                22   \n",
      "25          25   26    David   45  83996.000000    Finance                30   \n",
      "..         ...  ...      ...  ...           ...        ...               ...   \n",
      "69          69   70    Jalil   59  70395.153846  Marketing                33   \n",
      "52          52   53      Bob   45  70395.153846  Marketing                34   \n",
      "59          59   60      Bob   59  70395.153846  Marketing                 7   \n",
      "86          86   87  Charlie   56  70395.153846  Marketing                29   \n",
      "99          99  100  Othmane   32  70395.153846  Marketing                19   \n",
      "\n",
      "   Remote  \n",
      "65    Non  \n",
      "34    Oui  \n",
      "29    Oui  \n",
      "81    Non  \n",
      "25    Non  \n",
      "..    ...  \n",
      "69    Oui  \n",
      "52    Oui  \n",
      "59    Oui  \n",
      "86    Oui  \n",
      "99    Oui  \n",
      "\n",
      "[100 rows x 8 columns]\n"
     ]
    },
    {
     "name": "stderr",
     "output_type": "stream",
     "text": [
      "C:\\Users\\Infinix\\AppData\\Local\\Temp\\ipykernel_4400\\2829823100.py:1: FutureWarning: A value is trying to be set on a copy of a DataFrame or Series through chained assignment using an inplace method.\n",
      "The behavior will change in pandas 3.0. This inplace method will never work because the intermediate object on which we are setting values always behaves as a copy.\n",
      "\n",
      "For example, when doing 'df[col].method(value, inplace=True)', try using 'df.method({col: value}, inplace=True)' or df[col] = df[col].method(value) instead, to perform the operation inplace on the original object.\n",
      "\n",
      "\n",
      "  df['Remote'].replace({'Yes': 'Oui', 'No': 'Non'}, inplace=True)\n"
     ]
    }
   ],
   "source": [
    "df['Remote'].replace({'Yes': 'Oui', 'No': 'Non'}, inplace=True)\n",
    "print(df)"
   ]
  },
  {
   "cell_type": "code",
   "execution_count": 5,
   "id": "1ff1bef1",
   "metadata": {},
   "outputs": [
    {
     "name": "stdout",
     "output_type": "stream",
     "text": [
      "    Unnamed: 0   ID     Name  Age        Salary Department  Years_Experience  \\\n",
      "65          65   66    Alice   45  45959.000000    Finance                10   \n",
      "34          34   35   Nassim   45  57836.583333    Finance                35   \n",
      "29          29   30    Hamza   50  57836.583333    Finance                11   \n",
      "81          81   82    Jalil   32  64684.000000    Finance                22   \n",
      "25          25   26    David   45  83996.000000    Finance                30   \n",
      "..         ...  ...      ...  ...           ...        ...               ...   \n",
      "69          69   70    Jalil   59  70395.153846  Marketing                33   \n",
      "52          52   53      Bob   45  70395.153846  Marketing                34   \n",
      "59          59   60      Bob   59  70395.153846  Marketing                 7   \n",
      "86          86   87  Charlie   56  70395.153846  Marketing                29   \n",
      "99          99  100  Othmane   32  70395.153846  Marketing                19   \n",
      "\n",
      "   Remote Ancienneté_Catégorie  \n",
      "65     No               Senior  \n",
      "34    Yes               Expert  \n",
      "29    Yes               Senior  \n",
      "81     No               Expert  \n",
      "25     No               Expert  \n",
      "..    ...                  ...  \n",
      "69    Yes               Expert  \n",
      "52    Yes               Expert  \n",
      "59    Yes               Expert  \n",
      "86    Yes               Expert  \n",
      "99    Yes               Expert  \n",
      "\n",
      "[100 rows x 9 columns]\n"
     ]
    }
   ],
   "source": [
    "df['Ancienneté_Catégorie']=df['Years_Experience'].apply(lambda x: 'Junior' if x < 3 else ('Intermédiaire' if 3<x < 7 else ('Senior'if 8<x<15 else 'Expert')))\n",
    "print(df)"
   ]
  },
  {
   "cell_type": "markdown",
   "id": "3188a67d",
   "metadata": {},
   "source": [
    "# Partie 3 : Analyses exploratoires et statistiques"
   ]
  },
  {
   "cell_type": "code",
   "execution_count": 6,
   "id": "0256680f",
   "metadata": {},
   "outputs": [
    {
     "name": "stdout",
     "output_type": "stream",
     "text": [
      "Le salaire moyen globale est de 64504.14 \n"
     ]
    }
   ],
   "source": [
    "sal_moyen= df['Salary'].mean()\n",
    "print(f\"Le salaire moyen globale est de {sal_moyen:.2f} \")"
   ]
  },
  {
   "cell_type": "code",
   "execution_count": 7,
   "id": "063e2f43",
   "metadata": {},
   "outputs": [
    {
     "name": "stdout",
     "output_type": "stream",
     "text": [
      "L'employé avec le salaire le plus élevé est Jalil \n",
      "Le salaire le plus élevé est de 84685.00 \n"
     ]
    }
   ],
   "source": [
    "sal_plus=df.Salary.max()\n",
    "employe_plus=df.loc[df['Salary']== sal_plus,'Name']\n",
    "print(f\"L'employé avec le salaire le plus élevé est {employe_plus.values[0]} \")\n",
    "print(f\"Le salaire le plus élevé est de {sal_plus:.2f} \")"
   ]
  },
  {
   "cell_type": "code",
   "execution_count": 8,
   "id": "adbe5d13",
   "metadata": {},
   "outputs": [
    {
     "name": "stdout",
     "output_type": "stream",
     "text": [
      "                              mean     median\n",
      "Ancienneté_Catégorie                         \n",
      "Expert                64486.634333  64441.875\n",
      "Intermédiaire         66063.812963  64107.000\n",
      "Junior                61558.030769  69930.000\n",
      "Senior                64608.816168  67237.375\n"
     ]
    }
   ],
   "source": [
    "df1=df.groupby('Ancienneté_Catégorie')['Salary'].agg(['mean','median'])\n",
    "print(df1)"
   ]
  },
  {
   "cell_type": "code",
   "execution_count": 9,
   "id": "7bdfa34a",
   "metadata": {},
   "outputs": [
    {
     "name": "stdout",
     "output_type": "stream",
     "text": [
      "Nombre d'employés travaillant à distance par département :\n",
      "Series([], dtype: int64)\n",
      "Nombre d'employés ne travaillant pas à distance par département :\n",
      "Series([], dtype: int64)\n"
     ]
    }
   ],
   "source": [
    "tele_travaille= df[df['Remote'] == 'Oui'].groupby('Department').size()\n",
    "non_tele_travaille= df[df['Remote'] == 'Non'].groupby('Department').size()\n",
    "print(\"Nombre d'employés travaillant à distance par département :\")\n",
    "print(tele_travaille)\n",
    "print(\"Nombre d'employés ne travaillant pas à distance par département :\")\n",
    "print(non_tele_travaille)"
   ]
  },
  {
   "cell_type": "markdown",
   "id": "7a43d3c4",
   "metadata": {},
   "source": [
    "# Partie 4 : Tableaux croisés dynamiques (pivot tables)"
   ]
  },
  {
   "cell_type": "code",
   "execution_count": 10,
   "id": "e41031f1",
   "metadata": {},
   "outputs": [
    {
     "name": "stdout",
     "output_type": "stream",
     "text": [
      "Tableau croisé dynamique des salaires moyens par département et travail à distance :\n",
      "Remote                No           Yes\n",
      "Department                            \n",
      "Finance     60964.762821  52027.107143\n",
      "HR          62817.608889  60323.723077\n",
      "IT          65695.000000  71341.666667\n",
      "Logistics   65080.750000  64075.750000\n",
      "Marketing   69812.538462  70621.726496\n"
     ]
    }
   ],
   "source": [
    "df4=df.pivot_table(values='Salary',index='Department',columns='Remote',aggfunc='mean')\n",
    "print(\"Tableau croisé dynamique des salaires moyens par département et travail à distance :\")\n",
    "print(df4)"
   ]
  },
  {
   "cell_type": "code",
   "execution_count": 11,
   "id": "2ae5be56",
   "metadata": {},
   "outputs": [
    {
     "name": "stdout",
     "output_type": "stream",
     "text": [
      "Tableau croisé dynamique des années d'expérience moyennes par département et âge :\n",
      "\n",
      "\n",
      "Age           22    23    25    26    27    29    30    31    32    33  ...  \\\n",
      "Department                                                              ...   \n",
      "Finance      NaN   NaN   NaN   NaN   NaN   NaN   NaN   NaN  28.5  33.0  ...   \n",
      "HR          23.0  21.0   NaN  24.0   NaN   NaN   NaN  27.0   NaN   NaN  ...   \n",
      "IT           NaN   NaN   NaN   NaN  16.0  10.0   NaN   NaN   NaN   NaN  ...   \n",
      "Logistics    NaN   NaN   NaN   NaN   NaN  19.0  27.5   NaN   6.0   NaN  ...   \n",
      "Marketing    NaN   NaN  19.0   NaN  17.0   NaN   NaN   NaN  19.0   NaN  ...   \n",
      "\n",
      "Age           48    50    51    52    53    55         56    57    58    59  \n",
      "Department                                                                   \n",
      "Finance      NaN  11.0   NaN   6.0   NaN   NaN        NaN  33.0   NaN   NaN  \n",
      "HR          14.0   NaN  20.0   NaN  31.5  23.5  19.000000   NaN   NaN   3.0  \n",
      "IT           NaN   NaN   NaN  26.0   NaN   NaN        NaN   NaN  17.0   NaN  \n",
      "Logistics    NaN   NaN   NaN  19.0   NaN   NaN        NaN  10.0  31.0   NaN  \n",
      "Marketing    NaN   NaN   NaN  12.0  20.0   NaN  22.333333   NaN   NaN  20.0  \n",
      "\n",
      "[5 rows x 27 columns]\n"
     ]
    }
   ],
   "source": [
    "nbre_moyen_années_exp=df.pivot_table(values='Years_Experience',index='Department',columns='Age',aggfunc='mean')\n",
    "print(\"Tableau croisé dynamique des années d'expérience moyennes par département et âge :\")\n",
    "print('\\n')\n",
    "print(nbre_moyen_années_exp)"
   ]
  },
  {
   "cell_type": "markdown",
   "id": "3fdf27ed",
   "metadata": {},
   "source": [
    "# Partie 5 : Calculs avancés avec NumPy"
   ]
  },
  {
   "cell_type": "markdown",
   "id": "6396ca68",
   "metadata": {},
   "source": [
    "Méthode 1 pour pour créer une colonne Performance :\n",
    "\"Bon\" si Salaire < 60000\n",
    "\"Moyen\" si 60000 ≤ Salaire < 80000\n",
    "\"Haut\" si Salaire ≥ 80000 "
   ]
  },
  {
   "cell_type": "code",
   "execution_count": null,
   "id": "ac9db486",
   "metadata": {},
   "outputs": [
    {
     "data": {
      "text/plain": [
       "'\\ndf[\\'Performance\\']=df.Salary.apply(lambda x : \\'Bon\\' if x<6000 else (\\'Moyen\\' if 6000<=x<8000 else \\'Haut\\'))\\nprint(\"Catégorie de performance des employés :\")\\nprint(df[[\\'Name\\', \\'Performance\\']])\\n'"
      ]
     },
     "execution_count": 31,
     "metadata": {},
     "output_type": "execute_result"
    }
   ],
   "source": [
    "'''\n",
    "df['Performance']=df.Salary.apply(lambda x : 'Bon' if x<6000 else ('Moyen' if 6000<=x<8000 else 'Haut'))\n",
    "print(\"Catégorie de performance des employés :\")\n",
    "print(df[['Name', 'Performance']])\n",
    "'''"
   ]
  },
  {
   "cell_type": "markdown",
   "id": "089eb5f0",
   "metadata": {},
   "source": [
    "Méthode 2 pour pour créer une colonne Performance :\n",
    "\"Bon\" si Salaire < 60000\n",
    "\"Moyen\" si 60000 ≤ Salaire < 80000\n",
    "\"Haut\" si Salaire ≥ 80000 "
   ]
  },
  {
   "cell_type": "code",
   "execution_count": 12,
   "id": "60fc7ef0",
   "metadata": {},
   "outputs": [
    {
     "name": "stdout",
     "output_type": "stream",
     "text": [
      "Catégorie de performance des employés :\n",
      "       Name Performance\n",
      "65    Alice        Haut\n",
      "34   Nassim        Haut\n",
      "29    Hamza        Haut\n",
      "81    Jalil        Haut\n",
      "25    David        Haut\n",
      "..      ...         ...\n",
      "69    Jalil        Haut\n",
      "52      Bob        Haut\n",
      "59      Bob        Haut\n",
      "86  Charlie        Haut\n",
      "99  Othmane        Haut\n",
      "\n",
      "[100 rows x 2 columns]\n"
     ]
    }
   ],
   "source": [
    "df['Performance']=np.where(df['Salary']<6000,'Bon',np.where(df['Salary'] <8000,'Moyen','Haut'))\n",
    "print(\"Catégorie de performance des employés :\")\n",
    "print(df[['Name', 'Performance']])"
   ]
  },
  {
   "cell_type": "code",
   "execution_count": 14,
   "id": "d28e8cb8",
   "metadata": {},
   "outputs": [
    {
     "name": "stdout",
     "output_type": "stream",
     "text": [
      "Catégorie des employés en fonction de l'expérience et de l'âge :\n",
      "       Name             Catégorie\n",
      "65    Alice  Senior & Expérimenté\n",
      "34   Nassim  Senior & Expérimenté\n",
      "29    Hamza  Senior & Expérimenté\n",
      "81    Jalil  Senior & Expérimenté\n",
      "25    David  Senior & Expérimenté\n",
      "..      ...                   ...\n",
      "69    Jalil  Senior & Expérimenté\n",
      "52      Bob  Senior & Expérimenté\n",
      "59      Bob  Senior & Expérimenté\n",
      "86  Charlie  Senior & Expérimenté\n",
      "99  Othmane  Senior & Expérimenté\n",
      "\n",
      "[100 rows x 2 columns]\n"
     ]
    }
   ],
   "source": [
    "Conditions=[(df.Years_Experience<5) & (df.Age<30), (df.Years_Experience>=5 )& (df.Age<30), (df.Years_Experience<5) & (df.Age>=30), (df.Years_Experience>=5) & (df.Age>=30)]\n",
    "Valeurs=['Jeune & Nouveau', 'Jeune & Expérimenté', 'Senior & Nouveau', 'Senior & Expérimenté']\n",
    "df['Catégorie']=np.select(Conditions, Valeurs, default='Autre')\n",
    "print(\"Catégorie des employés en fonction de l'expérience et de l'âge :\")       \n",
    "print(df[['Name', 'Catégorie']])"
   ]
  },
  {
   "cell_type": "markdown",
   "id": "460f0eb4",
   "metadata": {},
   "source": [
    "### Calculer le salaire moyen par département"
   ]
  },
  {
   "cell_type": "code",
   "execution_count": 15,
   "id": "71394c2f",
   "metadata": {},
   "outputs": [
    {
     "name": "stdout",
     "output_type": "stream",
     "text": [
      "Salaire moyen par département :\n",
      "Department\n",
      "Finance      57836.583333\n",
      "HR           61659.733333\n",
      "IT           69930.000000\n",
      "Logistics    64544.750000\n",
      "Marketing    70395.153846\n",
      "Name: Salary, dtype: float64\n"
     ]
    }
   ],
   "source": [
    "\n",
    "salaire_moyen_departement = df.groupby('Department')['Salary'].mean()\n",
    "print(\"Salaire moyen par département :\")\n",
    "print(salaire_moyen_departement) \n"
   ]
  },
  {
   "cell_type": "markdown",
   "id": "90759db7",
   "metadata": {},
   "source": [
    "### Calculer la différence entre le salaire de chaque employé et le salaire moyen de son département"
   ]
  },
  {
   "cell_type": "code",
   "execution_count": 18,
   "id": "4d22e975",
   "metadata": {},
   "outputs": [
    {
     "name": "stdout",
     "output_type": "stream",
     "text": [
      "       Name Department        Salary  Ecart_Salaire_Departement\n",
      "65    Alice    Finance  45959.000000               11877.583333\n",
      "34   Nassim    Finance  57836.583333                   0.000000\n",
      "29    Hamza    Finance  57836.583333                   0.000000\n",
      "81    Jalil    Finance  64684.000000               -6847.416667\n",
      "25    David    Finance  83996.000000              -26159.416667\n",
      "..      ...        ...           ...                        ...\n",
      "69    Jalil  Marketing  70395.153846                   0.000000\n",
      "52      Bob  Marketing  70395.153846                   0.000000\n",
      "59      Bob  Marketing  70395.153846                   0.000000\n",
      "86  Charlie  Marketing  70395.153846                   0.000000\n",
      "99  Othmane  Marketing  70395.153846                   0.000000\n",
      "\n",
      "[100 rows x 4 columns]\n"
     ]
    }
   ],
   "source": [
    "df['Ecart_Salaire_Departement'] = df['Department'].map(salaire_moyen_departement) - df['Salary']\n",
    "print(df[['Name', 'Department', 'Salary', 'Ecart_Salaire_Departement']])"
   ]
  }
 ],
 "metadata": {
  "kernelspec": {
   "display_name": "Python 3",
   "language": "python",
   "name": "python3"
  },
  "language_info": {
   "codemirror_mode": {
    "name": "ipython",
    "version": 3
   },
   "file_extension": ".py",
   "mimetype": "text/x-python",
   "name": "python",
   "nbconvert_exporter": "python",
   "pygments_lexer": "ipython3",
   "version": "3.13.3"
  }
 },
 "nbformat": 4,
 "nbformat_minor": 5
}
