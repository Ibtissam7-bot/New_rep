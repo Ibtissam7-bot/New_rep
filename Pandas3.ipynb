{
 "cells": [
  {
   "cell_type": "markdown",
   "id": "9dae019e",
   "metadata": {},
   "source": [
    "Importation des bibliothèques pandas et numpy\n",
    "\n",
    "#Partie 1 : Chargement et exploration du dataset"
   ]
  },
  {
   "cell_type": "code",
   "execution_count": 10,
   "id": "5412e19d",
   "metadata": {},
   "outputs": [
    {
     "name": "stdout",
     "output_type": "stream",
     "text": [
      "    Unnamed: 0   ID     Name   Age   Salary Department  Years_Experience  \\\n",
      "0            0    1  Othmane   NaN      NaN         IT                 0   \n",
      "1            1    2    Ikram  22.0      NaN         HR                23   \n",
      "2            2    3      Bob   NaN      NaN         HR                26   \n",
      "3            3    4    Zineb  59.0  73665.0         HR                 3   \n",
      "4            4    5    David  57.0  59325.0    Finance                33   \n",
      "..         ...  ...      ...   ...      ...        ...               ...   \n",
      "95          95   96      Bob   NaN  82670.0  Marketing                21   \n",
      "96          96   97      Eva   NaN  59838.0    Finance                12   \n",
      "97          97   98   Nassim   NaN  45811.0    Finance                14   \n",
      "98          98   99   Nassim  42.0  73800.0  Marketing                13   \n",
      "99          99  100  Othmane  32.0      NaN  Marketing                19   \n",
      "\n",
      "   Remote  \n",
      "0     Yes  \n",
      "1     Yes  \n",
      "2     Yes  \n",
      "3      No  \n",
      "4      No  \n",
      "..    ...  \n",
      "95    Yes  \n",
      "96     No  \n",
      "97    Yes  \n",
      "98    Yes  \n",
      "99    Yes  \n",
      "\n",
      "[100 rows x 8 columns]\n",
      "   Unnamed: 0  ID     Name   Age   Salary Department  Years_Experience Remote\n",
      "0           0   1  Othmane   NaN      NaN         IT                 0    Yes\n",
      "1           1   2    Ikram  22.0      NaN         HR                23    Yes\n",
      "2           2   3      Bob   NaN      NaN         HR                26    Yes\n",
      "3           3   4    Zineb  59.0  73665.0         HR                 3     No\n",
      "4           4   5    David  57.0  59325.0    Finance                33     No\n",
      "<class 'pandas.core.frame.DataFrame'>\n",
      "RangeIndex: 100 entries, 0 to 99\n",
      "Data columns (total 8 columns):\n",
      " #   Column            Non-Null Count  Dtype  \n",
      "---  ------            --------------  -----  \n",
      " 0   Unnamed: 0        100 non-null    int64  \n",
      " 1   ID                100 non-null    int64  \n",
      " 2   Name              100 non-null    object \n",
      " 3   Age               51 non-null     float64\n",
      " 4   Salary            56 non-null     float64\n",
      " 5   Department        100 non-null    object \n",
      " 6   Years_Experience  100 non-null    int64  \n",
      " 7   Remote            100 non-null    object \n",
      "dtypes: float64(2), int64(3), object(3)\n",
      "memory usage: 6.4+ KB\n",
      "None\n",
      "Unnamed: 0           0\n",
      "ID                   0\n",
      "Name                 0\n",
      "Age                 49\n",
      "Salary              44\n",
      "Department           0\n",
      "Years_Experience     0\n",
      "Remote               0\n",
      "dtype: int64\n"
     ]
    }
   ],
   "source": [
    "import pandas as pd\n",
    "import numpy as np\n",
    "df=pd.read_csv('employees2 (1).csv')\n",
    "print(df)\n",
    "print(df.head(5))\n",
    "print(df.info())\n",
    "print(df.isnull().sum())"
   ]
  },
  {
   "cell_type": "markdown",
   "id": "4e3f60a6",
   "metadata": {},
   "source": [
    "# Partie 2 : Nettoyage des données\n"
   ]
  },
  {
   "cell_type": "code",
   "execution_count": 22,
   "id": "9c779d41",
   "metadata": {},
   "outputs": [
    {
     "name": "stdout",
     "output_type": "stream",
     "text": [
      "    Unnamed: 0   ID     Name   Age        Salary Department  Years_Experience  \\\n",
      "65          65   66    Alice  45.0  45959.000000    Finance                10   \n",
      "8            8    9    Ikram  45.0  57836.583333    Finance                15   \n",
      "33          33   34     Reda  33.0  49644.000000    Finance                33   \n",
      "57          57   58      Bob  52.0  57836.583333    Finance                 6   \n",
      "25          25   26    David  45.0  83996.000000    Finance                30   \n",
      "..         ...  ...      ...   ...           ...        ...               ...   \n",
      "98          98   99   Nassim  42.0  73800.000000  Marketing                13   \n",
      "78          78   79    Nawal  56.0  69956.000000  Marketing                28   \n",
      "47          47   48    Alice  25.0  63836.000000  Marketing                19   \n",
      "95          95   96      Bob  45.0  82670.000000  Marketing                21   \n",
      "99          99  100  Othmane  32.0  70395.153846  Marketing                19   \n",
      "\n",
      "   Remote  \n",
      "65     No  \n",
      "8      No  \n",
      "33    Yes  \n",
      "57     No  \n",
      "25     No  \n",
      "..    ...  \n",
      "98    Yes  \n",
      "78     No  \n",
      "47    Yes  \n",
      "95    Yes  \n",
      "99    Yes  \n",
      "\n",
      "[100 rows x 8 columns]\n"
     ]
    }
   ],
   "source": [
    "df.Age=df.Age.fillna(df.Age.median())\n",
    "df=df.sort_values(by='Department')\n",
    "df['Salary']=df['Salary'].fillna(df.groupby('Department')['Salary'].transform('mean'))\n",
    "print(df)\n",
    "\n",
    "#df.Salary=df.Salary.fillna(df.Salary.mean())\n",
    "#print(df.isnull().sum())"
   ]
  },
  {
   "cell_type": "code",
   "execution_count": null,
   "id": "cfd2cdb8",
   "metadata": {},
   "outputs": [],
   "source": [
    "df.ID=df.ID.astype(int)\n",
    "df['Salary']=df['Salary'].astype(float)\n",
    "df.Age=df.Age.astype(int)\n",
    "df.Years_Experience=df.Years_Experience.astype(int)\n"
   ]
  },
  {
   "cell_type": "code",
   "execution_count": null,
   "id": "12109975",
   "metadata": {},
   "outputs": [
    {
     "name": "stdout",
     "output_type": "stream",
     "text": [
      "    Unnamed: 0   ID     Name  Age        Salary Department  Years_Experience  \\\n",
      "65          65   66    Alice   45  45959.000000    Finance                10   \n",
      "8            8    9    Ikram   45  57836.583333    Finance                15   \n",
      "33          33   34     Reda   33  49644.000000    Finance                33   \n",
      "57          57   58      Bob   52  57836.583333    Finance                 6   \n",
      "25          25   26    David   45  83996.000000    Finance                30   \n",
      "..         ...  ...      ...  ...           ...        ...               ...   \n",
      "98          98   99   Nassim   42  73800.000000  Marketing                13   \n",
      "78          78   79    Nawal   56  69956.000000  Marketing                28   \n",
      "47          47   48    Alice   25  63836.000000  Marketing                19   \n",
      "95          95   96      Bob   45  82670.000000  Marketing                21   \n",
      "99          99  100  Othmane   32  70395.153846  Marketing                19   \n",
      "\n",
      "   Remote  \n",
      "65    Non  \n",
      "8     Non  \n",
      "33    Oui  \n",
      "57    Non  \n",
      "25    Non  \n",
      "..    ...  \n",
      "98    Oui  \n",
      "78    Non  \n",
      "47    Oui  \n",
      "95    Oui  \n",
      "99    Oui  \n",
      "\n",
      "[100 rows x 8 columns]\n"
     ]
    }
   ],
   "source": [
    "df['Remote'].replace({'Yes': 'Oui', 'No': 'Non'}, inplace=True)\n",
    "print(df)"
   ]
  },
  {
   "cell_type": "code",
   "execution_count": 29,
   "id": "1ff1bef1",
   "metadata": {},
   "outputs": [
    {
     "name": "stdout",
     "output_type": "stream",
     "text": [
      "    Unnamed: 0   ID     Name  Age        Salary Department  Years_Experience  \\\n",
      "65          65   66    Alice   45  45959.000000    Finance                10   \n",
      "8            8    9    Ikram   45  57836.583333    Finance                15   \n",
      "33          33   34     Reda   33  49644.000000    Finance                33   \n",
      "57          57   58      Bob   52  57836.583333    Finance                 6   \n",
      "25          25   26    David   45  83996.000000    Finance                30   \n",
      "..         ...  ...      ...  ...           ...        ...               ...   \n",
      "98          98   99   Nassim   42  73800.000000  Marketing                13   \n",
      "78          78   79    Nawal   56  69956.000000  Marketing                28   \n",
      "47          47   48    Alice   25  63836.000000  Marketing                19   \n",
      "95          95   96      Bob   45  82670.000000  Marketing                21   \n",
      "99          99  100  Othmane   32  70395.153846  Marketing                19   \n",
      "\n",
      "   Remote Ancienneté_Catégorie  \n",
      "65    Non               Senior  \n",
      "8     Non               Expert  \n",
      "33    Oui               Expert  \n",
      "57    Non               Expert  \n",
      "25    Non               Expert  \n",
      "..    ...                  ...  \n",
      "98    Oui               Senior  \n",
      "78    Non               Expert  \n",
      "47    Oui               Expert  \n",
      "95    Oui               Expert  \n",
      "99    Oui               Expert  \n",
      "\n",
      "[100 rows x 9 columns]\n"
     ]
    }
   ],
   "source": [
    "df['Ancienneté_Catégorie']=df['Years_Experience'].apply(lambda x: 'Junior' if x < 3 else ('Intermédiaire' if x < 6 else ('Senior'if 8<x<15 else 'Expert')))\n",
    "print(df)"
   ]
  },
  {
   "cell_type": "markdown",
   "id": "3188a67d",
   "metadata": {},
   "source": [
    "# Partie 3 : Analyses exploratoires et statistiques"
   ]
  },
  {
   "cell_type": "code",
   "execution_count": null,
   "id": "0256680f",
   "metadata": {},
   "outputs": [
    {
     "name": "stdout",
     "output_type": "stream",
     "text": [
      "Le salaire moyen est de 64504.14 \n"
     ]
    }
   ],
   "source": [
    "sal_moyen= df['Salary'].mean()\n",
    "print(f\"Le salaire moyen globale est de {sal_moyen:.2f} \")"
   ]
  },
  {
   "cell_type": "code",
   "execution_count": 31,
   "id": "063e2f43",
   "metadata": {},
   "outputs": [
    {
     "name": "stdout",
     "output_type": "stream",
     "text": [
      "Le salaire le plus élevé est de 84685.00 \n"
     ]
    }
   ],
   "source": [
    "sal_plus=df.Salary.max()\n",
    "print(f\"Le salaire le plus élevé est de {sal_plus:.2f} \")"
   ]
  },
  {
   "cell_type": "code",
   "execution_count": 32,
   "id": "adbe5d13",
   "metadata": {},
   "outputs": [
    {
     "name": "stdout",
     "output_type": "stream",
     "text": [
      "65    64608.816168\n",
      "8     64255.825622\n",
      "33    64255.825622\n",
      "57    64255.825622\n",
      "25    64255.825622\n",
      "          ...     \n",
      "98    64608.816168\n",
      "78    64255.825622\n",
      "47    64255.825622\n",
      "95    64255.825622\n",
      "99    64255.825622\n",
      "Name: Salary, Length: 100, dtype: float64\n"
     ]
    }
   ],
   "source": [
    "df1=df.groupby('Ancienneté_Catégorie')['Salary'].transform('mean')\n",
    "print(df1)"
   ]
  }
 ],
 "metadata": {
  "kernelspec": {
   "display_name": "Python 3",
   "language": "python",
   "name": "python3"
  },
  "language_info": {
   "codemirror_mode": {
    "name": "ipython",
    "version": 3
   },
   "file_extension": ".py",
   "mimetype": "text/x-python",
   "name": "python",
   "nbconvert_exporter": "python",
   "pygments_lexer": "ipython3",
   "version": "3.13.3"
  }
 },
 "nbformat": 4,
 "nbformat_minor": 5
}
