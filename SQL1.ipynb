{
 "cells": [
  {
   "cell_type": "markdown",
   "id": "45d508a8",
   "metadata": {},
   "source": [
    "## Contexte : Gestion d’un Restaurant"
   ]
  },
  {
   "cell_type": "markdown",
   "id": "d851cd8c",
   "metadata": {},
   "source": [
    "importation des bibliothèques"
   ]
  },
  {
   "cell_type": "code",
   "execution_count": 1,
   "id": "2a4ec6fd",
   "metadata": {},
   "outputs": [],
   "source": [
    "import sqlalchemy as sa\n",
    "import psycopg2 as pg \n",
    "from dotenv import load_dotenv\n",
    "import os   \n",
    "from sqlalchemy import create_engine , text\n",
    "from sqlalchemy import Table, Column, Integer, String, Float, DateTime, MetaData, ForeignKey, update\n",
    "from sqlalchemy import insert"
   ]
  },
  {
   "cell_type": "markdown",
   "id": "c9e6af8f",
   "metadata": {},
   "source": []
  }
 ],
 "metadata": {
  "kernelspec": {
   "display_name": "Python 3",
   "language": "python",
   "name": "python3"
  },
  "language_info": {
   "codemirror_mode": {
    "name": "ipython",
    "version": 3
   },
   "file_extension": ".py",
   "mimetype": "text/x-python",
   "name": "python",
   "nbconvert_exporter": "python",
   "pygments_lexer": "ipython3",
   "version": "3.13.3"
  }
 },
 "nbformat": 4,
 "nbformat_minor": 5
}
