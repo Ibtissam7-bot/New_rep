{
 "cells": [
  {
   "cell_type": "markdown",
   "id": "abd7ea87",
   "metadata": {},
   "source": [
    "Importation des deux bibliothèques pandas et numpy"
   ]
  },
  {
   "cell_type": "code",
   "execution_count": 3,
   "id": "f23f0a62",
   "metadata": {},
   "outputs": [],
   "source": [
    "import pandas as pd\n",
    "import numpy as np  "
   ]
  },
  {
   "cell_type": "markdown",
   "id": "177b915d",
   "metadata": {},
   "source": [
    "# Challenge 1 : Création et exploration d’un DataFrame"
   ]
  },
  {
   "cell_type": "markdown",
   "id": "17ea6738",
   "metadata": {},
   "source": []
  },
  {
   "cell_type": "markdown",
   "id": "cef9f20c",
   "metadata": {},
   "source": [
    "La structure du dataframe correspondant est: \n",
    "Le type de la colonne Nom est 'object'\n",
    "Le type de la colonne Age est 'float64'\n",
    "Le type de la colonne Ville est 'object'\n",
    "L'output montre la moyenne, minimum, maximum, ecart type, etc... Et ceci est pour les colonnes numériques\n"
   ]
  },
  {
   "cell_type": "code",
   "execution_count": 54,
   "id": "de4a7046",
   "metadata": {},
   "outputs": [
    {
     "name": "stdout",
     "output_type": "stream",
     "text": [
      "       Nom   Age   Ville\n",
      "0    Amine  25.0    Casa\n",
      "1     Lina  22.0   Rabat\n",
      "2  Youssef  35.0     Fes\n",
      "3    Salma  30.0    Casa\n",
      "4     Nora   NaN  Tanger\n",
      "       Nom   Age   Ville\n",
      "0    Amine  25.0    Casa\n",
      "1     Lina  22.0   Rabat\n",
      "2  Youssef  35.0     Fes\n",
      "3    Salma  30.0    Casa\n",
      "4     Nora   NaN  Tanger\n",
      "<class 'pandas.core.frame.DataFrame'>\n",
      "RangeIndex: 5 entries, 0 to 4\n",
      "Data columns (total 3 columns):\n",
      " #   Column  Non-Null Count  Dtype  \n",
      "---  ------  --------------  -----  \n",
      " 0   Nom     5 non-null      object \n",
      " 1   Age     4 non-null      float64\n",
      " 2   Ville   5 non-null      object \n",
      "dtypes: float64(1), object(2)\n",
      "memory usage: 252.0+ bytes\n",
      "None\n",
      "             Age\n",
      "count   4.000000\n",
      "mean   28.000000\n",
      "std     5.715476\n",
      "min    22.000000\n",
      "25%    24.250000\n",
      "50%    27.500000\n",
      "75%    31.250000\n",
      "max    35.000000\n"
     ]
    }
   ],
   "source": [
    "df= pd.DataFrame({'Nom':['Amine','Lina','Youssef','Salma','Nora'],'Age':[25,22,35,30,np.nan],'Ville':['Casa','Rabat','Fes','Casa','Tanger']})\n",
    "print(df)\n",
    "print(df.head(5))\n",
    "print(df.info())\n",
    "print(df.describe())"
   ]
  },
  {
   "cell_type": "markdown",
   "id": "b93c7786",
   "metadata": {},
   "source": [
    "Challenge 2 : Sélection et filtrage de données"
   ]
  },
  {
   "cell_type": "code",
   "execution_count": 56,
   "id": "d02dd9cd",
   "metadata": {},
   "outputs": [
    {
     "name": "stdout",
     "output_type": "stream",
     "text": [
      "0      Casa\n",
      "1     Rabat\n",
      "2       Fes\n",
      "3      Casa\n",
      "4    Tanger\n",
      "Name: Ville, dtype: object\n",
      "       Nom   Age Ville\n",
      "2  Youssef  35.0   Fes\n",
      "3    Salma  30.0  Casa\n",
      "Les nom des personnes de Casa sont :\n",
      "       Nom Ville\n",
      "0  Amine  Casa\n",
      "3  Salma  Casa\n"
     ]
    }
   ],
   "source": [
    "print(df['Ville'])\n",
    "print(df[df['Age']>25])\n",
    "print(\"Les nom des personnes de Casa sont :\\n \", df[df['Ville']=='Casa'][['Nom','Ville']])"
   ]
  },
  {
   "cell_type": "markdown",
   "id": "893b78a6",
   "metadata": {},
   "source": [
    "Challenge 3 : Ajout et modification de colonnes"
   ]
  },
  {
   "cell_type": "code",
   "execution_count": 50,
   "id": "720b7aee",
   "metadata": {},
   "outputs": [
    {
     "name": "stdout",
     "output_type": "stream",
     "text": [
      "       Nom   Age Localisation  Naissance\n",
      "0    AMINE  25.0         Casa     2000.0\n",
      "1     LINA  22.0        Rabat     2003.0\n",
      "2  YOUSSEF  35.0          Fes     1990.0\n",
      "3    SALMA  30.0         Casa     1995.0\n",
      "4     NORA   NaN       Tanger        NaN\n",
      "       Nom   Age Localisation  Naissance\n",
      "0    AMINE  25.0         Casa     2000.0\n",
      "1     LINA  22.0        Rabat     2003.0\n",
      "2  YOUSSEF  35.0          Fes     1990.0\n",
      "3    SALMA  30.0         Casa     1995.0\n",
      "4     NORA   NaN       Tanger        NaN\n",
      "       Nom   Age Localisation  Naissance\n",
      "0    AMINE  25.0         Casa     2000.0\n",
      "1     LINA  22.0        Rabat     2003.0\n",
      "2  YOUSSEF  35.0          Fes     1990.0\n",
      "3    SALMA  30.0         Casa     1995.0\n",
      "4     NORA   NaN       Tanger        NaN\n"
     ]
    }
   ],
   "source": [
    "df['Naissance']=2025-df['Age']\n",
    "print(df)\n",
    "df['Nom']=df['Nom'].str.upper()\n",
    "print(df)\n",
    "df.rename(columns={'Ville':'Localisation'},inplace=True)\n",
    "print(df)\n"
   ]
  },
  {
   "cell_type": "markdown",
   "id": "b8446908",
   "metadata": {},
   "source": [
    "Challenge 4 : Gestion des valeurs manquantes"
   ]
  },
  {
   "cell_type": "code",
   "execution_count": null,
   "id": "e6089617",
   "metadata": {},
   "outputs": [
    {
     "name": "stdout",
     "output_type": "stream",
     "text": [
      "Nom             0\n",
      "Age             1\n",
      "Localisation    0\n",
      "Naissance       1\n",
      "dtype: int64\n",
      "       Nom   Age Localisation  Naissance\n",
      "0    AMINE  25.0         Casa     2000.0\n",
      "1     LINA  22.0        Rabat     2003.0\n",
      "2  YOUSSEF  35.0          Fes     1990.0\n",
      "3    SALMA  30.0         Casa     1995.0\n",
      "4     NORA  28.0       Tanger     1997.0\n"
     ]
    }
   ],
   "source": [
    "print(df.isnull().sum())\n",
    "df.Age=df.Age.fillna(df.Age.mean())\n",
    "df.Naissance=2025-df.Age\n",
    "print(df)"
   ]
  },
  {
   "cell_type": "markdown",
   "id": "e2375123",
   "metadata": {},
   "source": [
    "Challenge 5 : Tri et suppression"
   ]
  },
  {
   "cell_type": "code",
   "execution_count": 52,
   "id": "6d26a142",
   "metadata": {},
   "outputs": [
    {
     "name": "stdout",
     "output_type": "stream",
     "text": [
      "       Nom   Age Localisation  Naissance\n",
      "2  YOUSSEF  35.0          Fes     1990.0\n",
      "3    SALMA  30.0         Casa     1995.0\n",
      "4     NORA  28.0       Tanger     1997.0\n",
      "0    AMINE  25.0         Casa     2000.0\n",
      "1     LINA  22.0        Rabat     2003.0\n",
      "       Nom   Age Localisation  Naissance\n",
      "0    AMINE  25.0         Casa     2000.0\n",
      "2  YOUSSEF  35.0          Fes     1990.0\n",
      "3    SALMA  30.0         Casa     1995.0\n",
      "4     NORA  28.0       Tanger     1997.0\n"
     ]
    }
   ],
   "source": [
    "df_sorted=df.sort_values(by='Age', ascending=False)\n",
    "print(df_sorted)\n",
    "#df.drop(columns=['Naissance'], inplace=True)\n",
    "df.drop(index=1, inplace=True)\n",
    "print(df)\n"
   ]
  }
 ],
 "metadata": {
  "kernelspec": {
   "display_name": "Python 3",
   "language": "python",
   "name": "python3"
  },
  "language_info": {
   "codemirror_mode": {
    "name": "ipython",
    "version": 3
   },
   "file_extension": ".py",
   "mimetype": "text/x-python",
   "name": "python",
   "nbconvert_exporter": "python",
   "pygments_lexer": "ipython3",
   "version": "3.13.3"
  }
 },
 "nbformat": 4,
 "nbformat_minor": 5
}
