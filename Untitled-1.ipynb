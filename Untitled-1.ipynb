{
 "cells": [
  {
   "cell_type": "code",
   "execution_count": 8,
   "id": "a9117d34",
   "metadata": {},
   "outputs": [],
   "source": [
    "import numpy as np\n",
    "import pandas as pd\n",
    "import matplotlib.pyplot as plt\n",
    "import seaborn as sns"
   ]
  },
  {
   "cell_type": "code",
   "execution_count": 20,
   "id": "d730c26f",
   "metadata": {},
   "outputs": [
    {
     "name": "stdout",
     "output_type": "stream",
     "text": [
      "<class 'pandas.core.frame.DataFrame'>\n",
      "RangeIndex: 1030 entries, 0 to 1029\n",
      "Data columns (total 9 columns):\n",
      " #   Column                                                 Non-Null Count  Dtype  \n",
      "---  ------                                                 --------------  -----  \n",
      " 0   Cement (component 1)(kg in a m^3 mixture)              1030 non-null   float64\n",
      " 1   Blast Furnace Slag (component 2)(kg in a m^3 mixture)  1027 non-null   float64\n",
      " 2   Fly Ash (component 3)(kg in a m^3 mixture)             1030 non-null   float64\n",
      " 3   Water  (component 4)(kg in a m^3 mixture)              1028 non-null   float64\n",
      " 4   Superplasticizer (component 5)(kg in a m^3 mixture)    1030 non-null   float64\n",
      " 5   Coarse Aggregate  (component 6)(kg in a m^3 mixture)   1027 non-null   float64\n",
      " 6   Fine Aggregate (component 7)(kg in a m^3 mixture)      1030 non-null   float64\n",
      " 7   Age (day)                                              1030 non-null   int64  \n",
      " 8   Concrete compressive strength(MPa, megapascals)        1029 non-null   float64\n",
      "dtypes: float64(8), int64(1)\n",
      "memory usage: 72.6 KB\n"
     ]
    },
    {
     "data": {
      "text/plain": [
       "Cement (component 1)(kg in a m^3 mixture)                0\n",
       "Blast Furnace Slag (component 2)(kg in a m^3 mixture)    3\n",
       "Fly Ash (component 3)(kg in a m^3 mixture)               0\n",
       "Water  (component 4)(kg in a m^3 mixture)                2\n",
       "Superplasticizer (component 5)(kg in a m^3 mixture)      0\n",
       "Coarse Aggregate  (component 6)(kg in a m^3 mixture)     3\n",
       "Fine Aggregate (component 7)(kg in a m^3 mixture)        0\n",
       "Age (day)                                                0\n",
       "Concrete compressive strength(MPa, megapascals)          1\n",
       "dtype: int64"
      ]
     },
     "execution_count": 20,
     "metadata": {},
     "output_type": "execute_result"
    }
   ],
   "source": [
    "df=pd.read_excel('Concrete_Data.xls')\n",
    "df.head()\n",
    "df.info()\n",
    "df.isnull().sum()\n"
   ]
  },
  {
   "cell_type": "code",
   "execution_count": null,
   "id": "653e1ebe",
   "metadata": {},
   "outputs": [
    {
     "name": "stdout",
     "output_type": "stream",
     "text": [
      "Cement (component 1)(kg in a m^3 mixture)                0\n",
      "Blast Furnace Slag (component 2)(kg in a m^3 mixture)    0\n",
      "Fly Ash (component 3)(kg in a m^3 mixture)               0\n",
      "Water  (component 4)(kg in a m^3 mixture)                0\n",
      "Superplasticizer (component 5)(kg in a m^3 mixture)      0\n",
      "Coarse Aggregate  (component 6)(kg in a m^3 mixture)     0\n",
      "Fine Aggregate (component 7)(kg in a m^3 mixture)        0\n",
      "Age (day)                                                0\n",
      "Concrete compressive strength(MPa, megapascals)          0\n",
      "dtype: int64\n",
      "      Cement (component 1)(kg in a m^3 mixture)  \\\n",
      "0                                         540.0   \n",
      "1                                         540.0   \n",
      "2                                         332.5   \n",
      "3                                         332.5   \n",
      "4                                         198.6   \n",
      "...                                         ...   \n",
      "1025                                      276.4   \n",
      "1026                                      322.2   \n",
      "1027                                      148.5   \n",
      "1028                                      159.1   \n",
      "1029                                      260.9   \n",
      "\n",
      "      Blast Furnace Slag (component 2)(kg in a m^3 mixture)  \\\n",
      "0                                              0.000000       \n",
      "1                                              0.000000       \n",
      "2                                            142.500000       \n",
      "3                                            142.500000       \n",
      "4                                             73.843671       \n",
      "...                                                 ...       \n",
      "1025                                         116.000000       \n",
      "1026                                           0.000000       \n",
      "1027                                         139.400000       \n",
      "1028                                         186.700000       \n",
      "1029                                         100.500000       \n",
      "\n",
      "      Fly Ash (component 3)(kg in a m^3 mixture)  \\\n",
      "0                                            0.0   \n",
      "1                                            0.0   \n",
      "2                                            0.0   \n",
      "3                                            0.0   \n",
      "4                                            0.0   \n",
      "...                                          ...   \n",
      "1025                                        90.3   \n",
      "1026                                       115.6   \n",
      "1027                                       108.6   \n",
      "1028                                         0.0   \n",
      "1029                                        78.3   \n",
      "\n",
      "      Water  (component 4)(kg in a m^3 mixture)  \\\n",
      "0                                    162.000000   \n",
      "1                                    162.000000   \n",
      "2                                    228.000000   \n",
      "3                                    228.000000   \n",
      "4                                    181.511041   \n",
      "...                                         ...   \n",
      "1025                                 179.600000   \n",
      "1026                                 196.000000   \n",
      "1027                                 192.700000   \n",
      "1028                                 175.600000   \n",
      "1029                                 200.600000   \n",
      "\n",
      "      Superplasticizer (component 5)(kg in a m^3 mixture)  \\\n",
      "0                                                   2.5     \n",
      "1                                                   2.5     \n",
      "2                                                   0.0     \n",
      "3                                                   0.0     \n",
      "4                                                   0.0     \n",
      "...                                                 ...     \n",
      "1025                                                8.9     \n",
      "1026                                               10.4     \n",
      "1027                                                6.1     \n",
      "1028                                               11.3     \n",
      "1029                                                8.6     \n",
      "\n",
      "      Coarse Aggregate  (component 6)(kg in a m^3 mixture)  \\\n",
      "0                                             1040.0000      \n",
      "1                                             1055.0000      \n",
      "2                                              932.0000      \n",
      "3                                              932.0000      \n",
      "4                                              973.0315      \n",
      "...                                                 ...      \n",
      "1025                                           870.1000      \n",
      "1026                                           817.9000      \n",
      "1027                                           973.0315      \n",
      "1028                                           989.6000      \n",
      "1029                                           864.5000      \n",
      "\n",
      "      Fine Aggregate (component 7)(kg in a m^3 mixture)  Age (day)  \\\n",
      "0                                                 676.0         28   \n",
      "1                                                 676.0         28   \n",
      "2                                                 594.0        270   \n",
      "3                                                 594.0        365   \n",
      "4                                                 825.5        360   \n",
      "...                                                 ...        ...   \n",
      "1025                                              768.3         28   \n",
      "1026                                              813.4         28   \n",
      "1027                                              780.0         28   \n",
      "1028                                              788.9         28   \n",
      "1029                                              761.5         28   \n",
      "\n",
      "      Concrete compressive strength(MPa, megapascals)   \n",
      "0                                            79.986111  \n",
      "1                                            61.887366  \n",
      "2                                            40.269535  \n",
      "3                                            41.052780  \n",
      "4                                            44.296075  \n",
      "...                                                ...  \n",
      "1025                                         44.284354  \n",
      "1026                                         31.178794  \n",
      "1027                                         23.696601  \n",
      "1028                                         32.768036  \n",
      "1029                                         32.401235  \n",
      "\n",
      "[1030 rows x 9 columns]\n"
     ]
    }
   ],
   "source": [
    "df=df.fillna(df.mean())\n",
    "print(df.isnull().sum())\n",
    "print(df)"
   ]
  },
  {
   "cell_type": "code",
   "execution_count": null,
   "id": "d42ec2d5",
   "metadata": {},
   "outputs": [
    {
     "name": "stdout",
     "output_type": "stream",
     "text": [
      "   transaction_id  amount\n",
      "1             101    4500\n",
      "3             103    3200\n"
     ]
    }
   ],
   "source": [
    "df_fin = pd.DataFrame({\n",
    "    \"transaction_id\": [100, 101, 102, 103, 104],\n",
    "    \"amount\": [250, 4_500, 980, 3_200, 150]\n",
    "})\n",
    "df_large=df_fin[df_fin['amount'] > 1000]\n",
    "print(df_large)"
   ]
  },
  {
   "cell_type": "code",
   "execution_count": 26,
   "id": "192f5047",
   "metadata": {},
   "outputs": [
    {
     "name": "stdout",
     "output_type": "stream",
     "text": [
      "region\n",
      "Est     3500\n",
      "Nord    1230\n",
      "Sud     4650\n",
      "Name: Ventes, dtype: int64\n"
     ]
    }
   ],
   "source": [
    "df_vente= pd.DataFrame({\n",
    "    \"region\": [\"Nord\", \"Sud\", \"Nord\", \"Est\", \"Sud\", \"Est\"],\n",
    "    \"Ventes\": [250, 4_500, 980, 3_200, 150, 300],})\n",
    "df_total=df_vente.groupby('region')['Ventes'].sum()\n",
    "print(df_total)"
   ]
  },
  {
   "cell_type": "code",
   "execution_count": 27,
   "id": "3832c585",
   "metadata": {},
   "outputs": [
    {
     "name": "stdout",
     "output_type": "stream",
     "text": [
      "   customer_id   nom  order_id  total\n",
      "0            1   Ali        10    250\n",
      "1            1   Ali        12     70\n",
      "2            2  Sara        11    400\n",
      "3            3  Lina        13    120\n"
     ]
    }
   ],
   "source": [
    "df_clients = pd.DataFrame({\n",
    "    \"customer_id\": [1, 2, 3],\n",
    "    \"nom\": [\"Ali\", \"Sara\", \"Lina\"]\n",
    "})\n",
    "\n",
    "# DataFrame commandes\n",
    "df_orders = pd.DataFrame({\n",
    "    \"order_id\":   [10, 11, 12, 13],\n",
    "    \"customer_id\": [1, 2, 1, 3],\n",
    "    \"total\":      [250, 400, 70, 120]\n",
    "})\n",
    "df_fusion = pd.merge(df_clients, df_orders, on=\"customer_id\")\n",
    "print(df_fusion)"
   ]
  },
  {
   "cell_type": "code",
   "execution_count": 28,
   "id": "54c86d13",
   "metadata": {},
   "outputs": [
    {
     "name": "stdout",
     "output_type": "stream",
     "text": [
      "région     Est   Nord   Sud\n",
      "produit                    \n",
      "Poire      0.0   60.0  90.0\n",
      "Pomme    120.0  100.0  80.0\n"
     ]
    }
   ],
   "source": [
    "df_prod = pd.DataFrame({\n",
    "    \"produit\": [\"Pomme\", \"Pomme\", \"Poire\", \"Pomme\", \"Poire\"],\n",
    "    \"région\":  [\"Nord\", \"Sud\",  \"Nord\",  \"Est\",   \"Sud\"],\n",
    "    \"ventes\":  [100,    80,     60,      120,     90]\n",
    "})\n",
    "PIV=pd.DataFrame.pivot_table(df_prod, values='ventes',index='produit',columns='région', aggfunc='sum').fillna(0)\n",
    "print(PIV)\n"
   ]
  }
 ],
 "metadata": {
  "kernelspec": {
   "display_name": "Python 3",
   "language": "python",
   "name": "python3"
  },
  "language_info": {
   "codemirror_mode": {
    "name": "ipython",
    "version": 3
   },
   "file_extension": ".py",
   "mimetype": "text/x-python",
   "name": "python",
   "nbconvert_exporter": "python",
   "pygments_lexer": "ipython3",
   "version": "3.13.3"
  }
 },
 "nbformat": 4,
 "nbformat_minor": 5
}
