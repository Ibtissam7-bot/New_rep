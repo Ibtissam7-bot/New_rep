{
 "cells": [
  {
   "cell_type": "markdown",
   "id": "36cc29b8",
   "metadata": {},
   "source": [
    "## Analyse des Données de Santé Publique"
   ]
  },
  {
   "cell_type": "markdown",
   "id": "e9c1381d",
   "metadata": {},
   "source": [
    "Importation des bibliothèques "
   ]
  },
  {
   "cell_type": "code",
   "execution_count": 190,
   "id": "b49e4112",
   "metadata": {},
   "outputs": [],
   "source": [
    "import pandas as pd\n",
    "import numpy as np"
   ]
  },
  {
   "cell_type": "markdown",
   "id": "b8014b34",
   "metadata": {},
   "source": [
    "Charger le jeu de données à l’aide de Pandas."
   ]
  },
  {
   "cell_type": "code",
   "execution_count": 191,
   "id": "4e6bc037",
   "metadata": {},
   "outputs": [],
   "source": [
    "db=pd.read_csv('DataSet.csv')"
   ]
  },
  {
   "cell_type": "markdown",
   "id": "cd455aca",
   "metadata": {},
   "source": [
    "Afficher la taille (dimensions) du dataset (lignes, colonnes)."
   ]
  },
  {
   "cell_type": "code",
   "execution_count": 192,
   "id": "66b547fb",
   "metadata": {},
   "outputs": [
    {
     "name": "stdout",
     "output_type": "stream",
     "text": [
      "La taille du dataset est de 5735 lignes et 28 colonnes.\n"
     ]
    }
   ],
   "source": [
    "print(\"La taille du dataset est de\", db.shape[0], \"lignes et\", db.shape[1], \"colonnes.\")"
   ]
  },
  {
   "cell_type": "markdown",
   "id": "3f9eda93",
   "metadata": {},
   "source": [
    "Lister les colonnes disponibles dans le dataset."
   ]
  },
  {
   "cell_type": "code",
   "execution_count": 193,
   "id": "a41d38b2",
   "metadata": {},
   "outputs": [
    {
     "name": "stdout",
     "output_type": "stream",
     "text": [
      "les colonnes disponibles sont : ['SEQN', 'ALQ101', 'ALQ110', 'ALQ130', 'SMQ020', 'RIAGENDR', 'RIDAGEYR', 'RIDRETH1', 'DMDCITZN', 'DMDEDUC2', 'DMDMARTL', 'DMDHHSIZ', 'WTINT2YR', 'SDMVPSU', 'SDMVSTRA', 'INDFMPIR', 'BPXSY1', 'BPXDI1', 'BPXSY2', 'BPXDI2', 'BMXWT', 'BMXHT', 'BMXBMI', 'BMXLEG', 'BMXARML', 'BMXARMC', 'BMXWAIST', 'HIQ210']\n"
     ]
    }
   ],
   "source": [
    "print(\"les colonnes disponibles sont :\",db.columns.tolist())"
   ]
  },
  {
   "cell_type": "markdown",
   "id": "97287d2c",
   "metadata": {},
   "source": [
    "Créer un sous-ensemble du jeu de données contenant uniquement les colonnes suivantes :"
   ]
  },
  {
   "cell_type": "markdown",
   "id": "56f94985",
   "metadata": {},
   "source": [
    "Brève explication des colonnes :\n",
    "\n",
    "SEQN : Numéro de séquence du répondant\n",
    "\n",
    "SMQ020 : Tabagisme\n",
    "\n",
    "RIAGENDR : Sexe\n",
    "\n",
    "RIDAGEYR : Âge (en années)\n",
    "\n",
    "DMDEDUC2 : Niveau d'éducation\n",
    "\n",
    "BMXWT : Poids (en kg)\n",
    "\n",
    "BMXHT : Taille (en cm)\n",
    "\n",
    "BMXBMI : IMC (Indice de Masse Corporelle)"
   ]
  },
  {
   "cell_type": "code",
   "execution_count": 194,
   "id": "c263ded4",
   "metadata": {},
   "outputs": [],
   "source": [
    "db_sous=db[['SEQN','SMQ020', 'RIAGENDR', 'RIDAGEYR','DMDEDUC2','BMXWT', 'BMXHT', 'BMXBMI']]"
   ]
  },
  {
   "cell_type": "markdown",
   "id": "7ea853ae",
   "metadata": {},
   "source": [
    "Afficher les informations générales (.info()) sur ce sous-ensemble."
   ]
  },
  {
   "cell_type": "code",
   "execution_count": 195,
   "id": "8fee48b3",
   "metadata": {},
   "outputs": [
    {
     "name": "stdout",
     "output_type": "stream",
     "text": [
      "<class 'pandas.core.frame.DataFrame'>\n",
      "RangeIndex: 5735 entries, 0 to 5734\n",
      "Data columns (total 8 columns):\n",
      " #   Column    Non-Null Count  Dtype  \n",
      "---  ------    --------------  -----  \n",
      " 0   SEQN      5735 non-null   int64  \n",
      " 1   SMQ020    5735 non-null   int64  \n",
      " 2   RIAGENDR  5735 non-null   int64  \n",
      " 3   RIDAGEYR  5735 non-null   int64  \n",
      " 4   DMDEDUC2  5474 non-null   float64\n",
      " 5   BMXWT     5666 non-null   float64\n",
      " 6   BMXHT     5673 non-null   float64\n",
      " 7   BMXBMI    5662 non-null   float64\n",
      "dtypes: float64(4), int64(4)\n",
      "memory usage: 358.6 KB\n",
      "Les informations générales sur le sous dataset sont: None\n"
     ]
    }
   ],
   "source": [
    "print(\"Les informations générales sur le sous dataset sont:\", db_sous.info())"
   ]
  },
  {
   "cell_type": "markdown",
   "id": "fcca91e8",
   "metadata": {},
   "source": [
    "Renommer les colonnes avec des noms plus explicites :\n",
    "['seqn','smoking','gender', 'age','education','weight','height','bmi']."
   ]
  },
  {
   "cell_type": "code",
   "execution_count": 196,
   "id": "a0235f86",
   "metadata": {},
   "outputs": [
    {
     "name": "stdout",
     "output_type": "stream",
     "text": [
      "Index(['seqn', 'smoking', 'gender', 'age', 'education', 'weight', 'height',\n",
      "       'bmi'],\n",
      "      dtype='object')\n",
      "<class 'pandas.core.frame.DataFrame'>\n",
      "RangeIndex: 5735 entries, 0 to 5734\n",
      "Data columns (total 8 columns):\n",
      " #   Column     Non-Null Count  Dtype  \n",
      "---  ------     --------------  -----  \n",
      " 0   seqn       5735 non-null   int64  \n",
      " 1   smoking    5735 non-null   int64  \n",
      " 2   gender     5735 non-null   int64  \n",
      " 3   age        5735 non-null   int64  \n",
      " 4   education  5474 non-null   float64\n",
      " 5   weight     5666 non-null   float64\n",
      " 6   height     5673 non-null   float64\n",
      " 7   bmi        5662 non-null   float64\n",
      "dtypes: float64(4), int64(4)\n",
      "memory usage: 358.6 KB\n",
      "None\n"
     ]
    }
   ],
   "source": [
    "db_sous=db_sous.rename(columns={ 'SEQN':'seqn', 'SMQ020':'smoking', 'RIAGENDR':'gender' ,'RIDAGEYR':'age','DMDEDUC2':'education', 'BMXWT':'weight','BMXHT':'height','BMXBMI':'bmi'} )\n",
    "print(db_sous.columns)\n",
    "colonnes_numeriques = ['education', 'weight', 'height', 'bmi']\n",
    "for col in colonnes_numeriques:\n",
    "    db_sous[col] = pd.to_numeric(db_sous[col], errors='coerce')\n",
    "\n",
    "\n",
    "print(db_sous.info())"
   ]
  },
  {
   "cell_type": "markdown",
   "id": "c9877070",
   "metadata": {},
   "source": [
    "Vérifier la présence de doublons dans le dataset.\n",
    "\n"
   ]
  },
  {
   "cell_type": "code",
   "execution_count": 197,
   "id": "8d7f027f",
   "metadata": {},
   "outputs": [
    {
     "name": "stdout",
     "output_type": "stream",
     "text": [
      "Il ya des doublons dans le data set 0\n"
     ]
    }
   ],
   "source": [
    "print(\"Il ya des doublons dans le data set\", db_sous.duplicated().sum())"
   ]
  },
  {
   "cell_type": "markdown",
   "id": "83dc7a0f",
   "metadata": {},
   "source": [
    "Supprimer les doublons si nécessaire.\n",
    "\n",
    "____________________ Il n ya pas des doublons _____________________"
   ]
  },
  {
   "cell_type": "markdown",
   "id": "a1ae5f38",
   "metadata": {},
   "source": [
    "Supprimer la colonne 'seqn', considérée comme un identifiant inutile pour l’analyse."
   ]
  },
  {
   "cell_type": "code",
   "execution_count": 198,
   "id": "753816bc",
   "metadata": {},
   "outputs": [
    {
     "name": "stdout",
     "output_type": "stream",
     "text": [
      "['smoking', 'gender', 'age', 'education', 'weight', 'height', 'bmi']\n"
     ]
    }
   ],
   "source": [
    "db_sous=db_sous.drop(columns='seqn')\n",
    "print(db_sous.columns.to_list())"
   ]
  },
  {
   "cell_type": "markdown",
   "id": "f5a4d47d",
   "metadata": {},
   "source": [
    "Identifier les valeurs manquantes (NaN) dans les colonnes."
   ]
  },
  {
   "cell_type": "code",
   "execution_count": 199,
   "id": "e6f13879",
   "metadata": {},
   "outputs": [
    {
     "name": "stdout",
     "output_type": "stream",
     "text": [
      "Les valeurs manquantes dans chaque colonnes sont:\n",
      "smoking        0\n",
      "gender         0\n",
      "age            0\n",
      "education    261\n",
      "weight        69\n",
      "height        62\n",
      "bmi           73\n",
      "dtype: int64\n"
     ]
    }
   ],
   "source": [
    "print(\"Les valeurs manquantes dans chaque colonnes sont:\")\n",
    "print(db_sous.isnull().sum())"
   ]
  },
  {
   "cell_type": "markdown",
   "id": "271c72ac",
   "metadata": {},
   "source": [
    "Remplacer les valeurs manquantes :\n",
    "\n",
    "education : remplacer par la médiane\n",
    "\n",
    "weight, height, bmi : remplacer par la moyenne"
   ]
  },
  {
   "cell_type": "code",
   "execution_count": 200,
   "id": "8db9cc6c",
   "metadata": {},
   "outputs": [
    {
     "name": "stdout",
     "output_type": "stream",
     "text": [
      "float64\n"
     ]
    }
   ],
   "source": [
    "print(db_sous.education.dtype)"
   ]
  },
  {
   "cell_type": "code",
   "execution_count": 201,
   "id": "929ad27c",
   "metadata": {},
   "outputs": [
    {
     "name": "stdout",
     "output_type": "stream",
     "text": [
      "smoking      0\n",
      "gender       0\n",
      "age          0\n",
      "education    0\n",
      "weight       0\n",
      "height       0\n",
      "bmi          0\n",
      "dtype: int64\n"
     ]
    }
   ],
   "source": [
    "db_sous.education=db_sous.education.fillna(db_sous.education.median())\n",
    "db_sous.weight=db_sous.weight.fillna(db_sous.weight.mean())\n",
    "db_sous.height=db_sous.height.fillna(db_sous.height.mean())\n",
    "db_sous.bmi=db_sous.bmi.fillna(db_sous.bmi.mean())\n",
    "print(db_sous.isnull().sum())\n"
   ]
  },
  {
   "cell_type": "markdown",
   "id": "82124751",
   "metadata": {},
   "source": [
    "Afficher les statistiques descriptives (moyenne, écart-type, min, max, etc.) du dataset."
   ]
  },
  {
   "cell_type": "code",
   "execution_count": 202,
   "id": "f7e3262d",
   "metadata": {},
   "outputs": [
    {
     "name": "stdout",
     "output_type": "stream",
     "text": [
      "Les statistiques descriptives sont:\n",
      "           smoking       gender          age    education       weight  \\\n",
      "count  5735.000000  5735.000000  5735.000000  5735.000000  5735.000000   \n",
      "mean      1.607149     1.518919    48.052310     3.467132    81.342676   \n",
      "std       0.571975     0.499686    18.431011     1.284826    21.633062   \n",
      "min       1.000000     1.000000    18.000000     1.000000    32.400000   \n",
      "25%       1.000000     1.000000    32.000000     3.000000    66.100000   \n",
      "50%       2.000000     2.000000    48.000000     4.000000    78.400000   \n",
      "75%       2.000000     2.000000    63.000000     4.000000    92.600000   \n",
      "max       9.000000     2.000000    80.000000     9.000000   198.900000   \n",
      "\n",
      "            height          bmi  \n",
      "count  5735.000000  5735.000000  \n",
      "mean    166.142834    29.382197  \n",
      "std      10.024624     7.050607  \n",
      "min     129.700000    14.500000  \n",
      "25%     158.750000    24.400000  \n",
      "50%     166.142834    28.400000  \n",
      "75%     173.400000    33.000000  \n",
      "max     202.700000    67.300000  \n"
     ]
    }
   ],
   "source": [
    "print(\"Les statistiques descriptives sont:\")\n",
    "print(db_sous.describe())\n"
   ]
  },
  {
   "cell_type": "markdown",
   "id": "aaa4f77a",
   "metadata": {},
   "source": [
    "Détecter les valeurs aberrantes (outliers) à l’aide de méthodes statistiques."
   ]
  },
  {
   "cell_type": "code",
   "execution_count": 203,
   "id": "dceba8a2",
   "metadata": {},
   "outputs": [
    {
     "name": "stdout",
     "output_type": "stream",
     "text": [
      "Pour la colonne smoking, on a l'IQR est:\n",
      "IQR,1.0\n",
      "Et le data frame contenant les valeurs non abérrantes est:\n",
      "      smoking  gender  age  education  weight  height   bmi\n",
      "288         7       1   36        1.0    61.9   173.7  20.5\n",
      "1331        9       1   80        9.0    79.1   164.8  29.1\n",
      "1433        9       2   73        5.0   102.0   168.7  35.8\n",
      "1636        7       1   64        4.0   118.4   172.9  39.6\n",
      "1756        9       1   80        1.0    97.8   174.2  32.2\n",
      "2818        9       2   24        3.0    67.1   159.6  26.3\n",
      "4835        9       2   60        3.0    65.2   156.2  26.7\n",
      "4964        9       1   80        9.0    97.6   169.6  33.9\n",
      "5270        9       1   78        2.0    70.7   163.1  26.6\n",
      "5324        9       2   38        4.0    43.4   146.1  20.3\n",
      "Pour la colonne gender, on a l'IQR est:\n",
      "IQR,1.0\n",
      "Data frame vide, ie: il n'ya pas de valeurs abérrantes dans la colonne gender\n",
      "Pour la colonne age, on a l'IQR est:\n",
      "IQR,31.0\n",
      "Data frame vide, ie: il n'ya pas de valeurs abérrantes dans la colonne age\n",
      "Pour la colonne education, on a l'IQR est:\n",
      "IQR,1.0\n",
      "Et le data frame contenant les valeurs non abérrantes est:\n",
      "      smoking  gender  age  education  weight  height   bmi\n",
      "15          2       2   57        1.0    80.5   150.8  35.4\n",
      "22          1       2   69        1.0    77.7   160.2  30.3\n",
      "29          2       2   68        1.0    77.4   152.0  33.5\n",
      "32          1       1   56        1.0    85.6   187.4  24.4\n",
      "43          2       2   80        1.0    72.3   159.2  28.5\n",
      "...       ...     ...  ...        ...     ...     ...   ...\n",
      "5713        2       1   43        1.0    75.7   177.1  24.1\n",
      "5716        1       2   73        1.0   119.6   149.0  53.9\n",
      "5719        1       2   63        1.0    81.9   147.6  37.6\n",
      "5727        2       2   69        1.0    64.8   151.9  28.1\n",
      "5733        1       1   35        1.0    78.2   173.3  26.0\n",
      "\n",
      "[658 rows x 7 columns]\n",
      "Pour la colonne weight, on a l'IQR est:\n",
      "IQR,26.5\n",
      "Et le data frame contenant les valeurs non abérrantes est:\n",
      "      smoking  gender  age  education  weight  height   bmi\n",
      "58          1       2   44        1.0   133.3   171.5  45.3\n",
      "66          1       1   41        4.0   146.1   189.4  40.7\n",
      "131         2       2   44        4.0   147.0   167.9  52.1\n",
      "152         2       1   43        4.0   143.6   182.4  43.2\n",
      "158         2       1   26        5.0   137.7   173.6  45.7\n",
      "...       ...     ...  ...        ...     ...     ...   ...\n",
      "5552        2       2   35        4.0   132.6   171.4  45.1\n",
      "5589        2       1   73        4.0   136.9   182.0  41.3\n",
      "5590        1       1   38        4.0   178.3   184.6  52.3\n",
      "5630        2       1   52        5.0   146.7   187.1  41.9\n",
      "5644        2       1   48        4.0   139.4   180.5  42.8\n",
      "\n",
      "[164 rows x 7 columns]\n"
     ]
    },
    {
     "name": "stdout",
     "output_type": "stream",
     "text": [
      "Pour la colonne height, on a l'IQR est:\n",
      "IQR,14.650000000000006\n",
      "Et le data frame contenant les valeurs non abérrantes est:\n",
      "      smoking  gender  age  education  weight  height   bmi\n",
      "471         1       1   29        3.0   121.2   198.4  30.8\n",
      "1591        2       2   75        1.0    51.4   129.7  30.6\n",
      "1627        1       1   43        4.0   120.6   201.0  29.9\n",
      "2500        2       1   41        5.0   122.6   202.7  29.8\n",
      "2860        1       1   48        5.0   103.5   195.6  27.1\n",
      "4100        2       1   65        5.0   110.4   195.4  28.9\n",
      "5729        2       1   25        5.0    39.2   136.5  21.0\n",
      "Pour la colonne bmi, on a l'IQR est:\n",
      "IQR,8.600000000000001\n",
      "Et le data frame contenant les valeurs non abérrantes est:\n",
      "      smoking  gender  age  education  weight  height   bmi\n",
      "128         2       2   22        4.0   126.3   162.9  47.6\n",
      "131         2       2   44        4.0   147.0   167.9  52.1\n",
      "150         2       2   41        3.0   121.9   156.4  49.8\n",
      "170         2       2   60        4.0   158.2   164.1  58.7\n",
      "255         1       1   52        3.0   150.0   174.9  49.0\n",
      "...       ...     ...  ...        ...     ...     ...   ...\n",
      "5590        1       1   38        4.0   178.3   184.6  52.3\n",
      "5619        2       2   54        4.0   123.0   159.0  48.7\n",
      "5638        2       2   31        2.0   123.4   160.9  47.7\n",
      "5686        2       2   60        3.0   123.8   149.9  55.1\n",
      "5716        1       2   73        1.0   119.6   149.0  53.9\n",
      "\n",
      "[163 rows x 7 columns]\n",
      "None\n"
     ]
    }
   ],
   "source": [
    "data_filt=pd.DataFrame()\n",
    "def outl(data):\n",
    "    for col in data.columns:\n",
    "        Q1=data[col].quantile(0.25)\n",
    "        Q3=data[col].quantile(0.75)\n",
    "        IQR=Q3-Q1\n",
    "        data_non_filered=data[(data[col]<= Q1-1.5*IQR) | (data[col]>= Q3+1.5*IQR)]\n",
    "        print(f\"Pour la colonne {col}, on a l'IQR est:\")\n",
    "        print(f\"IQR,{IQR}\")\n",
    "        if data_non_filered.empty :\n",
    "           print(f\"Data frame vide, ie: il n'ya pas de valeurs abérrantes dans la colonne {col}\")\n",
    "        else:\n",
    "          print(\"Et le data frame contenant les valeurs non abérrantes est:\")\n",
    "          print(data_non_filered)\n",
    "\n",
    "print(outl(db_sous))\n",
    "\n"
   ]
  },
  {
   "cell_type": "markdown",
   "id": "42dd9cd0",
   "metadata": {},
   "source": [
    "Supprimer les outliers pour améliorer la qualité des données."
   ]
  },
  {
   "cell_type": "code",
   "execution_count": 204,
   "id": "076cfb94",
   "metadata": {},
   "outputs": [
    {
     "name": "stdout",
     "output_type": "stream",
     "text": [
      "      smoking  gender  age  education  weight  height   bmi\n",
      "0           1       1   62        5.0    94.8   184.5  27.8\n",
      "1           1       1   53        3.0    90.4   171.4  30.8\n",
      "2           1       1   78        3.0    83.4   170.1  28.8\n",
      "3           2       2   56        5.0   109.8   160.9  42.4\n",
      "4           2       2   42        4.0    55.2   164.9  20.3\n",
      "...       ...     ...  ...        ...     ...     ...   ...\n",
      "5730        1       2   76        3.0    59.1   165.8  21.5\n",
      "5731        2       1   26        5.0   112.1   182.2  33.8\n",
      "5732        1       2   80        4.0    71.7   152.2  31.0\n",
      "5733        1       1   35        1.0    78.2   173.3  26.0\n",
      "5734        2       2   24        5.0    58.3   165.0  21.4\n",
      "\n",
      "[5735 rows x 7 columns]\n"
     ]
    }
   ],
   "source": [
    "def supprimer_outliers(data):\n",
    "    df = data.copy()\n",
    "    cola=['smoking', 'gender', 'age', 'education', 'weight', 'height', 'bmi']\n",
    "    for col in cola:\n",
    "        Q1 = df[col].quantile(0.25)\n",
    "        Q3 = df[col].quantile(0.75)\n",
    "        IQR = Q3 - Q1\n",
    "        borne_inf = Q1 - 1.5 * IQR\n",
    "        borne_sup = Q3 + 1.5 * IQR\n",
    "\n",
    "        # Supprimer les lignes où il y a un outlier dans la colonne\n",
    "        df = df[(df[col] >= borne_inf) & (df[col] <= borne_sup)]\n",
    "    return df\n",
    "df_clean = supprimer_outliers(db_sous)\n",
    "print(db_sous)\n",
    "\n",
    "\n"
   ]
  },
  {
   "cell_type": "code",
   "execution_count": 205,
   "id": "c7c57fcc",
   "metadata": {},
   "outputs": [
    {
     "data": {
      "image/png": "[encoded data removed]",
      "text/plain": [
       "<Figure size 1200x600 with 1 Axes>"
      ]
     },
     "metadata": {},
     "output_type": "display_data"
    }
   ],
   "source": [
    "import matplotlib.pyplot as plt\n",
    "import seaborn as sns\n",
    "colonnes = ['smoking', 'gender', 'age', 'education', 'weight', 'height', 'bmi']\n",
    "\n",
    "plt.figure(figsize=(12, 6))\n",
    "sns.boxplot(data=df_sans_outliers)\n",
    "plt.title('Boxplots des variables numériques')\n",
    "plt.show()"
   ]
  },
  {
   "cell_type": "code",
   "execution_count": 206,
   "id": "3c1c604c",
   "metadata": {},
   "outputs": [
    {
     "name": "stdout",
     "output_type": "stream",
     "text": [
      "Pour la colonne smoking, on a l'IQR est:\n",
      "IQR,1.0\n",
      "Data frame vide, ie: il n'ya pas de valeurs abérrantes dans la colonne smoking\n",
      "Pour la colonne gender, on a l'IQR est:\n",
      "IQR,1.0\n",
      "Data frame vide, ie: il n'ya pas de valeurs abérrantes dans la colonne gender\n",
      "Pour la colonne age, on a l'IQR est:\n",
      "IQR,31.0\n",
      "Data frame vide, ie: il n'ya pas de valeurs abérrantes dans la colonne age\n",
      "Pour la colonne education, on a l'IQR est:\n",
      "IQR,2.0\n",
      "Data frame vide, ie: il n'ya pas de valeurs abérrantes dans la colonne education\n",
      "Pour la colonne weight, on a l'IQR est:\n",
      "IQR,25.5\n",
      "Et le data frame contenant les valeurs abérrantes est:\n",
      "      smoking  gender  age  education  weight  height   bmi\n",
      "233         1       1   38        2.0   131.6   179.0  41.1\n",
      "698         2       2   43        5.0   130.9   174.5  43.0\n",
      "722         1       1   48        4.0   129.6   183.6  38.4\n",
      "817         1       1   45        3.0   131.2   177.8  41.5\n",
      "1217        2       1   57        2.0   129.8   188.0  36.7\n",
      "1478        1       1   34        5.0   131.1   177.3  41.7\n",
      "1556        2       1   50        2.0   132.3   179.3  41.2\n",
      "1558        1       1   58        4.0   130.5   189.9  36.2\n",
      "1969        2       1   22        4.0   130.3   183.4  38.7\n",
      "2048        2       1   39        3.0   134.4   174.0  44.4\n",
      "2067        2       1   35        5.0   132.5   189.3  37.0\n",
      "2494        2       2   43        4.0   129.9   171.2  44.3\n",
      "2598        1       1   28        4.0   132.2   176.2  42.6\n",
      "2600        1       2   23        3.0   133.8   176.6  42.9\n",
      "2619        2       1   48        5.0   130.2   187.4  37.1\n",
      "2932        1       2   43        3.0   131.1   175.2  42.7\n",
      "3038        2       2   66        4.0   133.6   174.6  43.8\n",
      "3210        2       1   35        4.0   131.1   171.8  44.4\n",
      "3305        2       1   29        3.0   131.1   182.7  39.3\n",
      "3820        1       1   54        4.0   131.7   177.1  42.0\n",
      "3936        2       1   29        2.0   130.0   180.4  39.9\n",
      "4173        1       1   55        3.0   131.5   182.4  39.5\n",
      "4429        2       1   40        5.0   132.8   191.2  36.3\n",
      "4624        1       2   55        4.0   133.3   184.1  39.3\n",
      "5024        1       1   58        5.0   129.5   187.2  37.0\n",
      "5159        2       1   55        3.0   133.5   180.1  41.2\n",
      "5361        1       1   61        5.0   129.8   173.3  43.2\n",
      "5551        1       1   38        4.0   133.9   187.8  38.0\n",
      "Pour la colonne height, on a l'IQR est:\n",
      "IQR,14.325000000000017\n",
      "Data frame vide, ie: il n'ya pas de valeurs abérrantes dans la colonne height\n",
      "Pour la colonne bmi, on a l'IQR est:\n",
      "IQR,8.200000000000003\n",
      "Et le data frame contenant les valeurs abérrantes est:\n",
      "      smoking  gender  age  education  weight  height   bmi\n",
      "944         2       2   38        3.0   104.6   153.2  44.6\n",
      "2059        2       1   63        4.0   128.1   169.2  44.7\n",
      "3145        1       1   66        3.0   113.2   159.4  44.6\n",
      "3731        2       2   39        5.0   110.8   156.9  45.0\n",
      "4465        1       2   35        4.0   104.4   152.5  44.9\n",
      "4742        2       2   39        5.0   119.3   163.4  44.7\n",
      "4962        1       2   47        4.0   117.0   161.8  44.7\n",
      "5396        1       2   45        4.0   107.6   155.3  44.6\n",
      "None\n"
     ]
    }
   ],
   "source": [
    "data_filt=pd.DataFrame()\n",
    "def outl(data):\n",
    "    for col in data.columns:\n",
    "        Q1=data[col].quantile(0.25)\n",
    "        Q3=data[col].quantile(0.75)\n",
    "        IQR=Q3-Q1\n",
    "        data_non_filered=data[(data[col]<= Q1-1.5*IQR) | (data[col]>= Q3+1.5*IQR)]\n",
    "        print(f\"Pour la colonne {col}, on a l'IQR est:\")\n",
    "        print(f\"IQR,{IQR}\")\n",
    "        if data_non_filered.empty :\n",
    "           print(f\"Data frame vide, ie: il n'ya pas de valeurs abérrantes dans la colonne {col}\")\n",
    "        else:\n",
    "          print(\"Et le data frame contenant les valeurs abérrantes est:\")\n",
    "          print(data_non_filered)\n",
    "\n",
    "print(outl(df_clean))\n",
    "\n"
   ]
  },
  {
   "cell_type": "code",
   "execution_count": 207,
   "id": "ff62ed18",
   "metadata": {},
   "outputs": [
    {
     "name": "stdout",
     "output_type": "stream",
     "text": [
      "Nombre de lignes avant : 5735\n",
      "Nombre de lignes après : 4844\n"
     ]
    }
   ],
   "source": [
    "print(\"Nombre de lignes avant :\", db_sous.shape[0])\n",
    "print(\"Nombre de lignes après :\", df_clean.shape[0])"
   ]
  }
 ],
 "metadata": {
  "kernelspec": {
   "display_name": "Python 3",
   "language": "python",
   "name": "python3"
  },
  "language_info": {
   "codemirror_mode": {
    "name": "ipython",
    "version": 3
   },
   "file_extension": ".py",
   "mimetype": "text/x-python",
   "name": "python",
   "nbconvert_exporter": "python",
   "pygments_lexer": "ipython3",
   "version": "3.13.3"
  }
 },
 "nbformat": 4,
 "nbformat_minor": 5
}
